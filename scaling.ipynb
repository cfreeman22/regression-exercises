{
 "cells": [
  {
   "cell_type": "code",
   "execution_count": 1,
   "id": "956d3aa2",
   "metadata": {},
   "outputs": [],
   "source": [
    "import pandas as pd\n",
    "import numpy as np\n",
    "\n",
    "import wrangle as wr\n",
    "\n",
    "import matplotlib.pyplot as plt\n",
    "import seaborn as sns\n",
    "import prepare as prep\n",
    "from sklearn.model_selection import train_test_split\n",
    "from sklearn.impute import SimpleImputer\n",
    "import sklearn.preprocessing\n",
    "import warnings\n",
    "warnings.filterwarnings(\"ignore\")"
   ]
  },
  {
   "cell_type": "code",
   "execution_count": 2,
   "id": "755223de",
   "metadata": {},
   "outputs": [],
   "source": [
    "data = prep.prep_telco()"
   ]
  },
  {
   "cell_type": "code",
   "execution_count": null,
   "id": "f394848b",
   "metadata": {},
   "outputs": [],
   "source": []
  },
  {
   "cell_type": "code",
   "execution_count": 3,
   "id": "fc6a3c01",
   "metadata": {},
   "outputs": [
    {
     "name": "stdout",
     "output_type": "stream",
     "text": [
      "train_encoded, shape: (3943, 33)\n",
      "validate_encoded, shape: (1691, 33)\n",
      "test_encoded, shape: (1409, 33)\n"
     ]
    }
   ],
   "source": [
    "train, validate, test = prep.split_telco(data)"
   ]
  },
  {
   "cell_type": "code",
   "execution_count": 4,
   "id": "379b09f6",
   "metadata": {},
   "outputs": [
    {
     "data": {
      "text/plain": [
       "Index(['customer_id', 'gender', 'senior_citizen', 'partner', 'dependents',\n",
       "       'tenure', 'phone_service', 'multiple_lines', 'online_security',\n",
       "       'online_backup', 'device_protection', 'tech_support', 'streaming_tv',\n",
       "       'streaming_movies', 'paperless_billing', 'monthly_charges',\n",
       "       'total_charges', 'churn', 'contract', 'internet', 'payment_type',\n",
       "       'female', 'male', 'monthly_contract', 'one_yr_contract',\n",
       "       'two_yr_contract', 'dsl', 'fiber', 'no_internet', 'bank_transfer',\n",
       "       'credit_card', 'electronic_check', 'mailed_check'],\n",
       "      dtype='object')"
      ]
     },
     "execution_count": 4,
     "metadata": {},
     "output_type": "execute_result"
    }
   ],
   "source": [
    "train.columns"
   ]
  },
  {
   "cell_type": "code",
   "execution_count": 5,
   "id": "6f6d5be2",
   "metadata": {},
   "outputs": [
    {
     "data": {
      "text/plain": [
       "<AxesSubplot:ylabel='Frequency'>"
      ]
     },
     "execution_count": 5,
     "metadata": {},
     "output_type": "execute_result"
    },
    {
     "data": {
      "image/png": "[encoded data removed]",
      "text/plain": [
       "<Figure size 432x288 with 1 Axes>"
      ]
     },
     "metadata": {
      "needs_background": "light"
     },
     "output_type": "display_data"
    }
   ],
   "source": [
    "train.total_charges.plot.hist()\n",
    "train.monthly_charges.plot.hist() "
   ]
  },
  {
   "cell_type": "code",
   "execution_count": 6,
   "id": "6fa6d417",
   "metadata": {},
   "outputs": [
    {
     "ename": "NameError",
     "evalue": "name 'scaler' is not defined",
     "output_type": "error",
     "traceback": [
      "\u001b[0;31m---------------------------------------------------------------------------\u001b[0m",
      "\u001b[0;31mNameError\u001b[0m                                 Traceback (most recent call last)",
      "\u001b[0;32m<ipython-input-6-4bbffe37049d>\u001b[0m in \u001b[0;36m<module>\u001b[0;34m\u001b[0m\n\u001b[1;32m      3\u001b[0m \u001b[0;34m\u001b[0m\u001b[0m\n\u001b[1;32m      4\u001b[0m \u001b[0;31m# 3. use the object (use the min, max to do the transformation)\u001b[0m\u001b[0;34m\u001b[0m\u001b[0;34m\u001b[0m\u001b[0;34m\u001b[0m\u001b[0m\n\u001b[0;32m----> 5\u001b[0;31m \u001b[0mscaled_charges\u001b[0m \u001b[0;34m=\u001b[0m \u001b[0mscaler\u001b[0m\u001b[0;34m.\u001b[0m\u001b[0mtransform\u001b[0m\u001b[0;34m(\u001b[0m\u001b[0mtrain\u001b[0m\u001b[0;34m[\u001b[0m\u001b[0;34m[\u001b[0m\u001b[0;34m'total_charges'\u001b[0m\u001b[0;34m,\u001b[0m \u001b[0;34m'monthly_charges'\u001b[0m\u001b[0;34m]\u001b[0m\u001b[0;34m]\u001b[0m\u001b[0;34m)\u001b[0m\u001b[0;34m\u001b[0m\u001b[0;34m\u001b[0m\u001b[0m\n\u001b[0m\u001b[1;32m      6\u001b[0m \u001b[0mscaled_charges\u001b[0m\u001b[0;34m[\u001b[0m\u001b[0;34m:\u001b[0m\u001b[0;36m10\u001b[0m\u001b[0;34m]\u001b[0m\u001b[0;34m\u001b[0m\u001b[0;34m\u001b[0m\u001b[0m\n",
      "\u001b[0;31mNameError\u001b[0m: name 'scaler' is not defined"
     ]
    }
   ],
   "source": [
    "# 1. create the object\n",
    "#scaler.fit(train[['total_charges', 'monthly_charges']])\n",
    "\n",
    "# 3. use the object (use the min, max to do the transformation)\n",
    "scaled_charges = scaler.transform(train[['total_charges', 'monthly_charges']])\n",
    "scaled_charges[:10]"
   ]
  },
  {
   "cell_type": "code",
   "execution_count": null,
   "id": "925212f9",
   "metadata": {},
   "outputs": [],
   "source": [
    "# assign the scaled values as new columns in the train\n",
    "train[['total_charges_scaled', 'monthly_charges_scaled']] = scaled_charges"
   ]
  },
  {
   "cell_type": "code",
   "execution_count": null,
   "id": "e1f61c38",
   "metadata": {},
   "outputs": [],
   "source": [
    "#make new scaled columns for validate and test (transform only)\n",
    "\n",
    "test[['total_charges_scaled', 'monthly_charges_scaled']] = scaler.transform(test[['total_charges', 'monthly_charges']])\n",
    "validate[['total_charges_scaled', 'monthly_charges_scaled']] = scaler.transform(validate[['total_charges', 'monthly_charges']])"
   ]
  },
  {
   "cell_type": "code",
   "execution_count": null,
   "id": "0ef7f227",
   "metadata": {},
   "outputs": [],
   "source": [
    "# Visualize the un-scaled and scaled distribution for total_charges\n",
    "\n",
    "plt.figure(figsize=(13, 6))\n",
    "\n",
    "# subplot 1\n",
    "plt.subplot(121)\n",
    "train.total_charges.plot.hist(title='Original')\n",
    "\n",
    "subplot 2\n",
    "plt.subplot(122)\n",
    "train.total_charges_scaled.plot.hist(title='Min-Max Scaled');"
   ]
  },
  {
   "cell_type": "code",
   "execution_count": null,
   "id": "41ad5f45",
   "metadata": {},
   "outputs": [],
   "source": [
    "# Visualize the un-scaled and scaled distribution for total_charges\n",
    "\n",
    "plt.figure(figsize=(13, 6))\n",
    "\n",
    "# subplot 1\n",
    "plt.subplot(121)\n",
    "train.monthly_charges.plot.hist(title='Original')\n",
    "\n",
    "#subplot 2\n",
    "plt.subplot(122)\n",
    "train.monthly_charges_scaled.plot.hist(title='Min-Max Scaled');"
   ]
  },
  {
   "cell_type": "code",
   "execution_count": null,
   "id": "aea01b9a",
   "metadata": {},
   "outputs": [],
   "source": [
    " data = wr.acquire_zillow()"
   ]
  },
  {
   "cell_type": "code",
   "execution_count": null,
   "id": "c1f5c122",
   "metadata": {},
   "outputs": [],
   "source": [
    "train, validate, test = wr.prepare_zillow(data)"
   ]
  },
  {
   "cell_type": "code",
   "execution_count": null,
   "id": "fee219c1",
   "metadata": {},
   "outputs": [],
   "source": [
    "train.head()"
   ]
  },
  {
   "cell_type": "code",
   "execution_count": null,
   "id": "ff251ddd",
   "metadata": {},
   "outputs": [],
   "source": [
    "#plot distribution of tip and total tax\n",
    "train.tax_value.plot.hist()\n",
    "train.taxamount.plot.hist()"
   ]
  },
  {
   "cell_type": "code",
   "execution_count": null,
   "id": "99e041a2",
   "metadata": {},
   "outputs": [],
   "source": []
  },
  {
   "cell_type": "code",
   "execution_count": null,
   "id": "85a53526",
   "metadata": {},
   "outputs": [],
   "source": []
  },
  {
   "cell_type": "code",
   "execution_count": null,
   "id": "8e77a27a",
   "metadata": {},
   "outputs": [],
   "source": [
    "# 1. create the object\n",
    "scaler = sklearn.preprocessing.MinMaxScaler()\n",
    "\n",
    "# 2. fit the object (learn the min and max value)\n",
    "scaler.fit(train[['tax_value', 'taxamount']])\n",
    "\n",
    "# 3. use the object (use the min, max to do the transformation)\n",
    "scaled_tax = scaler.transform(train[['tax_value', 'taxamount']])\n",
    "scaled_tax[:10]"
   ]
  },
  {
   "cell_type": "code",
   "execution_count": null,
   "id": "1d577ba6",
   "metadata": {},
   "outputs": [],
   "source": [
    "# assign the scaled values as new columns in the train\n",
    "train[['tax_value_scaled', 'taxamount_scaled']] = scaled_tax"
   ]
  },
  {
   "cell_type": "code",
   "execution_count": null,
   "id": "2e4e9109",
   "metadata": {},
   "outputs": [],
   "source": [
    "train.head()"
   ]
  },
  {
   "cell_type": "code",
   "execution_count": null,
   "id": "38a07dc9",
   "metadata": {},
   "outputs": [],
   "source": [
    "# make new scaled columns for validate and test (transform only)\n",
    "\n",
    "test[['tax_value_scaled', 'taxamount_scaled']] = scaler.transform(test[['tax_value', 'taxamount']])\n",
    "validate[['tax_value_scaled', 'taxamount_scaled']] = scaler.transform(validate[['tax_value', 'taxamount']])"
   ]
  },
  {
   "cell_type": "code",
   "execution_count": null,
   "id": "6552d0e2",
   "metadata": {},
   "outputs": [],
   "source": [
    "# Visualize the un-scaled and scaled distribution \n",
    "\n",
    "plt.figure(figsize=(13, 6))\n",
    "\n",
    "# subplot 1\n",
    "plt.subplot(121)\n",
    "train.taxamount.plot.hist(title='Original')\n",
    "\n",
    "#subplot 2\n",
    "plt.subplot(122)\n",
    "train.taxamount_scaled.plot.hist(title='Min-Max Scaled');"
   ]
  },
  {
   "cell_type": "code",
   "execution_count": null,
   "id": "9026b472",
   "metadata": {},
   "outputs": [],
   "source": [
    "# Visualize the un-scaled and scaled distribution \n",
    "\n",
    "plt.figure(figsize=(13, 6))\n",
    "\n",
    "# subplot 1\n",
    "plt.subplot(121)\n",
    "train.tax_value.plot.hist(title='Original')\n",
    "\n",
    "#subplot 2\n",
    "plt.subplot(122)\n",
    "train.tax_value_scaled.plot.hist(title='Min-Max Scaled');"
   ]
  },
  {
   "cell_type": "code",
   "execution_count": null,
   "id": "0ff5ca2a",
   "metadata": {},
   "outputs": [],
   "source": []
  }
 ],
 "metadata": {
  "kernelspec": {
   "display_name": "Python 3",
   "language": "python",
   "name": "python3"
  },
  "language_info": {
   "codemirror_mode": {
    "name": "ipython",
    "version": 3
   },
   "file_extension": ".py",
   "mimetype": "text/x-python",
   "name": "python",
   "nbconvert_exporter": "python",
   "pygments_lexer": "ipython3",
   "version": "3.8.8"
  }
 },
 "nbformat": 4,
 "nbformat_minor": 5
}
